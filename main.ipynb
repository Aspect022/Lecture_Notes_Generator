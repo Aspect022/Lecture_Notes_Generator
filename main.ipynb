{
 "cells": [
  {
   "metadata": {},
   "cell_type": "markdown",
   "source": [
    "# Automated Lecture Notes Generator\n",
    "\n",
    "This notebook implements a simple extractive summarizer using Sumy and NLTK.\n"
   ],
   "id": "892805eea8ccec0d"
  },
  {
   "metadata": {
    "ExecuteTime": {
     "end_time": "2025-05-21T10:20:03.930970Z",
     "start_time": "2025-05-21T10:20:03.899493Z"
    }
   },
   "cell_type": "code",
   "source": [
    "import nltk\n",
    "from pptx import Presentation\n",
    "import PyPDF2\n",
    "from PIL import Image\n",
    "import pytesseract\n",
    "from sumy.parsers.plaintext import PlaintextParser\n",
    "from sumy.nlp.tokenizers import Tokenizer\n",
    "from sumy.summarizers.lsa import LsaSummarizer\n",
    "nltk.download(\"punkt\")\n",
    "nltk.download(\"punkt_tab\")# needed for sentence splitting"
   ],
   "id": "b28189ecd78c3420",
   "outputs": [
    {
     "name": "stderr",
     "output_type": "stream",
     "text": [
      "[nltk_data] Downloading package punkt to\n",
      "[nltk_data]     C:\\Users\\tgija\\AppData\\Roaming\\nltk_data...\n",
      "[nltk_data]   Package punkt is already up-to-date!\n",
      "[nltk_data] Downloading package punkt_tab to\n",
      "[nltk_data]     C:\\Users\\tgija\\AppData\\Roaming\\nltk_data...\n",
      "[nltk_data]   Package punkt_tab is already up-to-date!\n"
     ]
    },
    {
     "data": {
      "text/plain": [
       "True"
      ]
     },
     "execution_count": 28,
     "metadata": {},
     "output_type": "execute_result"
    }
   ],
   "execution_count": 28
  },
  {
   "metadata": {
    "ExecuteTime": {
     "end_time": "2025-05-21T10:20:04.856917Z",
     "start_time": "2025-05-21T10:20:04.844263Z"
    }
   },
   "cell_type": "code",
   "source": [
    "def summarize_text(text: str, num_sentences: int = 5) -> str:\n",
    "    parser = PlaintextParser.from_string(text, Tokenizer(\"english\"))\n",
    "    summarizer = LsaSummarizer()\n",
    "    summary = summarizer(parser.document, num_sentences)\n",
    "    return \" \".join(str(s) for s in summary)"
   ],
   "id": "ed0d7cb7485ce9c",
   "outputs": [],
   "execution_count": 29
  },
  {
   "metadata": {
    "ExecuteTime": {
     "end_time": "2025-05-21T10:20:05.636685Z",
     "start_time": "2025-05-21T10:20:05.627065Z"
    }
   },
   "cell_type": "code",
   "source": [
    "def display_bullet_notes(summary: str):\n",
    "    notes = [n.strip() for n in summary.split(\". \") if n]\n",
    "    for note in notes:\n",
    "        print(f\"• {note.strip('.')}\")"
   ],
   "id": "926e9ab966e3e2a7",
   "outputs": [],
   "execution_count": 30
  },
  {
   "metadata": {
    "ExecuteTime": {
     "end_time": "2025-05-21T10:20:06.455122Z",
     "start_time": "2025-05-21T10:20:06.444667Z"
    }
   },
   "cell_type": "code",
   "source": [
    "# 1️⃣ Paste text\n",
    "def input_from_textbox() -> str:\n",
    "    print(\"Paste your lecture text. End with a single line containing only 'END'.\")\n",
    "    lines = []\n",
    "    while True:\n",
    "        line = input()\n",
    "        if line.strip() == \"END\":\n",
    "            break\n",
    "        lines.append(line)\n",
    "    return \"\\n\".join(lines)"
   ],
   "id": "e84d6fe7df6472be",
   "outputs": [],
   "execution_count": 31
  },
  {
   "metadata": {
    "ExecuteTime": {
     "end_time": "2025-05-21T10:20:07.258700Z",
     "start_time": "2025-05-21T10:20:07.250506Z"
    }
   },
   "cell_type": "code",
   "source": [
    "# 2️⃣ Text file\n",
    "def input_from_text_file(path: str) -> str:\n",
    "    with open(path, \"r\", encoding=\"utf-8\") as f:\n",
    "        return f.read()\n"
   ],
   "id": "52ba74007b113cb3",
   "outputs": [],
   "execution_count": 32
  },
  {
   "metadata": {
    "ExecuteTime": {
     "end_time": "2025-05-21T10:20:08.017525Z",
     "start_time": "2025-05-21T10:20:08.002523Z"
    }
   },
   "cell_type": "code",
   "source": [
    "# 3️⃣ PDF file\n",
    "import PyPDF2\n",
    "def input_from_pdf(path: str) -> str:\n",
    "    text = \"\"\n",
    "    with open(path, \"rb\") as f:\n",
    "        reader = PyPDF2.PdfReader(f)\n",
    "        for page in reader.pages:\n",
    "            text += (page.extract_text() or \"\") + \"\\n\"\n",
    "    return text"
   ],
   "id": "756baf00d02f5cda",
   "outputs": [],
   "execution_count": 33
  },
  {
   "metadata": {
    "ExecuteTime": {
     "end_time": "2025-05-21T10:20:08.739966Z",
     "start_time": "2025-05-21T10:20:08.732032Z"
    }
   },
   "cell_type": "code",
   "source": [
    "# 4️⃣ PPTX file\n",
    "from pptx import Presentation\n",
    "def input_from_pptx(path: str) -> str:\n",
    "    text = \"\"\n",
    "    prs = Presentation(path)\n",
    "    for slide in prs.slides:\n",
    "        for shape in slide.shapes:\n",
    "            if hasattr(shape, \"text\") and shape.text.strip():\n",
    "                text += shape.text + \"\\n\"\n",
    "    return text"
   ],
   "id": "f8ef04239903840d",
   "outputs": [],
   "execution_count": 34
  },
  {
   "metadata": {
    "ExecuteTime": {
     "end_time": "2025-05-21T10:20:09.388281Z",
     "start_time": "2025-05-21T10:20:09.380237Z"
    }
   },
   "cell_type": "code",
   "source": [
    "# 5️⃣ Handwritten image (OCR)\n",
    "from PIL import Image\n",
    "import pytesseract\n",
    "def input_from_handwritten_image(path: str) -> str:\n",
    "    return pytesseract.image_to_string(Image.open(path))"
   ],
   "id": "53eabd1fa3779de1",
   "outputs": [],
   "execution_count": 35
  },
  {
   "metadata": {
    "ExecuteTime": {
     "end_time": "2025-05-21T10:20:10.854130Z",
     "start_time": "2025-05-21T10:20:10.841594Z"
    }
   },
   "cell_type": "code",
   "source": [
    "def main():\n",
    "    menu = \"\"\"\n",
    "Select input type:\n",
    "  1. Paste text\n",
    "  2. Load a .txt file\n",
    "  3. Load a .pdf file\n",
    "  4. Load a .pptx file\n",
    "  5. Load a handwritten-image\n",
    "  0. Exit\n",
    "\"\"\"\n",
    "    while True:\n",
    "        print(menu)\n",
    "        choice = input(\"Enter choice ▶ \")\n",
    "        if choice == \"0\":\n",
    "            print(\"👋 Bye!\")\n",
    "            break\n",
    "\n",
    "        # get the raw text\n",
    "        if choice == \"1\":\n",
    "            text = input_from_textbox()\n",
    "        elif choice == \"2\":\n",
    "            path = input(\"Enter path to .txt file ▶ \")\n",
    "            text = input_from_text_file(path)\n",
    "        elif choice == \"3\":\n",
    "            path = input(\"Enter path to .pdf file ▶ \")\n",
    "            text = input_from_pdf(path)\n",
    "        elif choice == \"4\":\n",
    "            path = input(\"Enter path to .pptx file ▶ \")\n",
    "            text = input_from_pptx(path)\n",
    "        elif choice == \"5\":\n",
    "            path = input(\"Enter path to handwritten image ▶ \")\n",
    "            text = input_from_handwritten_image(path)\n",
    "        else:\n",
    "            print(\"❌ Invalid choice, try again.\")\n",
    "            continue\n",
    "\n",
    "        # how many sentences?\n",
    "        try:\n",
    "            n = int(input(\"How many sentences for summary? ▶ \"))\n",
    "        except ValueError:\n",
    "            n = 5\n",
    "            print(\"Using default of 5 sentences.\")\n",
    "\n",
    "        # summarize and display\n",
    "        summary = summarize_text(text, num_sentences=n)\n",
    "        display_bullet_notes(summary)\n",
    "\n",
    "        input(\"\\nPress Enter to return to menu...\")"
   ],
   "id": "1989d6ad918a81da",
   "outputs": [],
   "execution_count": 36
  },
  {
   "metadata": {
    "ExecuteTime": {
     "end_time": "2025-05-21T10:24:59.614111Z",
     "start_time": "2025-05-21T10:24:25.799804Z"
    }
   },
   "cell_type": "code",
   "source": [
    "if __name__ == \"__main__\":\n",
    "    main()"
   ],
   "id": "71ca91974657b03a",
   "outputs": [
    {
     "name": "stdout",
     "output_type": "stream",
     "text": [
      "\n",
      "Select input type:\n",
      "  1. Paste text\n",
      "  2. Load a .txt file\n",
      "  3. Load a .pdf file\n",
      "  4. Load a .pptx file\n",
      "  5. Load a handwritten-image\n",
      "  0. Exit\n",
      "\n",
      "• Artificial intelligence (AI) is intelligence demonstrated by machines, unlike the natural intelligence displayed by humans and animals\n",
      "• Leading AI textbooks define the field as the study of \"intelligent agents\": any device that perceives its environment and takes actions that maximize its chance of successfully achieving its goals\n",
      "• Colloquially, the term \"artificial intelligence\" is often used to describe machines that mimic \"cognitive\" functions that humans associate with the human mind, such as learning and problem solving\n",
      "• As machines become increasingly capable, tasks considered to require \"intelligence\" are often removed from the definition of AI, a phenomenon known as the AI effect\n",
      "• For instance, optical character recognition is frequently excluded from things considered to be AI, having become a routine technology\n",
      "\n",
      "Select input type:\n",
      "  1. Paste text\n",
      "  2. Load a .txt file\n",
      "  3. Load a .pdf file\n",
      "  4. Load a .pptx file\n",
      "  5. Load a handwritten-image\n",
      "  0. Exit\n",
      "\n",
      "👋 Bye!\n"
     ]
    }
   ],
   "execution_count": 40
  }
 ],
 "metadata": {
  "kernelspec": {
   "display_name": "Python 3",
   "language": "python",
   "name": "python3"
  },
  "language_info": {
   "codemirror_mode": {
    "name": "ipython",
    "version": 2
   },
   "file_extension": ".py",
   "mimetype": "text/x-python",
   "name": "python",
   "nbconvert_exporter": "python",
   "pygments_lexer": "ipython2",
   "version": "2.7.6"
  }
 },
 "nbformat": 4,
 "nbformat_minor": 5
}
